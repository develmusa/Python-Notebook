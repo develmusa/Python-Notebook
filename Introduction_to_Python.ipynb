{
 "cells": [
  {
   "cell_type": "markdown",
   "metadata": {},
   "source": [
    "# Introduction to Python\n",
    "Adapted from PyCharm Edu's \"Introduction to Python\""
   ]
  },
  {
   "cell_type": "markdown",
   "metadata": {},
   "source": [
    "----\n",
    "## Ressources\n",
    "- [Python Documentation](https://docs.python.org/3/index.html)"
   ]
  },
  {
   "cell_type": "markdown",
   "metadata": {},
   "source": [
    "----\n",
    "## Introduction"
   ]
  },
  {
   "cell_type": "markdown",
   "metadata": {},
   "source": [
    "### Hello World"
   ]
  },
  {
   "cell_type": "code",
   "execution_count": null,
   "metadata": {},
   "outputs": [],
   "source": [
    "print(\"Hello, world! My name is Hans\")"
   ]
  },
  {
   "cell_type": "markdown",
   "metadata": {},
   "source": [
    "### Comments\n",
    "Comments in Python start with the hash character ( #) and include the whole line."
   ]
  },
  {
   "cell_type": "code",
   "execution_count": null,
   "metadata": {},
   "outputs": [],
   "source": [
    "# This is the comment for the xxx.py file\n",
    "print(\"Hello!\")  # this comment is for the second line"
   ]
  },
  {
   "cell_type": "markdown",
   "metadata": {},
   "source": [
    "### Documentation string\n",
    "Used for documentation"
   ]
  },
  {
   "cell_type": "raw",
   "metadata": {},
   "source": [
    "\"\"\"\n",
    "This is a documentation string. It'll be available by functionName.__doc__()\n",
    "\"\"\""
   ]
  },
  {
   "cell_type": "markdown",
   "metadata": {},
   "source": [
    "----\n",
    "## Variables\n",
    "Variable names may only contain letters, digits, and/or the underscore character, and cannot start with a digit."
   ]
  },
  {
   "cell_type": "markdown",
   "metadata": {},
   "source": [
    "### Variable definition\n",
    "Variables are used to store values so we can refer to them later. A variable is like a label, and you use the ' =' symbol, known as the assignment operator, to assign a value to a variable. An assignment can be chained, e.g. a = b = 2 "
   ]
  },
  {
   "cell_type": "code",
   "execution_count": null,
   "metadata": {},
   "outputs": [],
   "source": [
    "a = b = 2  # This is called a \"chained assignment\". It assigns the value 2 to variables \"a\" and \"b\".\n",
    "print(\"a = \" + str(a))\n",
    "print(\"b = \" + str(b))\n",
    "\n",
    "greetings = \"greetings\"\n",
    "print(\"greetings = \" + str(greetings))\n",
    "greetings = \"Hello Programmer\"\n",
    "print(\"greetings = \" + str(greetings))"
   ]
  },
  {
   "cell_type": "markdown",
   "metadata": {},
   "source": [
    "### Undefined variable"
   ]
  },
  {
   "cell_type": "code",
   "execution_count": null,
   "metadata": {},
   "outputs": [],
   "source": [
    "variable = 1\n",
    "print(other_variable)"
   ]
  },
  {
   "cell_type": "markdown",
   "metadata": {},
   "source": [
    "### Variable types\n",
    "In Python, there are two main types of numbers: integers and floats. The most important difference between them is that a float is a number that has a decimal point, and an int is a number without a decimal point."
   ]
  },
  {
   "cell_type": "code",
   "execution_count": null,
   "metadata": {},
   "outputs": [],
   "source": [
    "number = 9\n",
    "print(type(number))   # print type of variable \"number\"\n",
    "\n",
    "float_number = 9.0\n",
    "print(type(float_number))"
   ]
  },
  {
   "cell_type": "markdown",
   "metadata": {},
   "source": [
    "### Type conversion\n",
    "There are several built-in functions that let you convert one data type to another. These functions return a new object representing the converted value. int(x) converts x to an integer. float(x) converts x to a floating-point number. str(x) converts object x to a string representation. "
   ]
  },
  {
   "cell_type": "code",
   "execution_count": null,
   "metadata": {},
   "outputs": [],
   "source": [
    "number = 9\n",
    "print(type(number))   # print type of variable \"number\"\n",
    "\n",
    "float_number = 9.0\n",
    "print(float_number)\n",
    "print(int(float_number))"
   ]
  },
  {
   "cell_type": "markdown",
   "metadata": {},
   "source": [
    "### Arithmetic operators\n",
    "Just as with any other programming language, the addition ( +), subtraction ( -), multiplication ( \\*), and division ( /) operators can be used with numbers. In addition Python has the power ( \\*\\*) and modulo ( %) operators. "
   ]
  },
  {
   "cell_type": "code",
   "execution_count": null,
   "metadata": {},
   "outputs": [],
   "source": [
    "number = 9.0        # float number\n",
    "\n",
    "result = number/2\n",
    "\n",
    "remainder = number%2\n",
    "\n",
    "print(\"result = \" + str(result))\n",
    "print(\"remainder = \" + str(remainder))"
   ]
  },
  {
   "cell_type": "markdown",
   "metadata": {},
   "source": [
    "### Assignements\n",
    "Augmented assignment is a single statement combining a binary operation and an assignment statement such as +=, -=, etc. "
   ]
  },
  {
   "cell_type": "code",
   "execution_count": null,
   "metadata": {},
   "outputs": [],
   "source": [
    "number = 9.0\n",
    "print(\"number = \" + str(number))\n",
    "\n",
    "number -= 2\n",
    "print(\"number = \" + str(number))\n",
    "\n",
    "number += 5\n",
    "\n",
    "print(\"number = \" + str(number))\n"
   ]
  },
  {
   "cell_type": "markdown",
   "metadata": {},
   "source": [
    "### Boolean operators\n",
    "Boolean is a type of value that can only be True or False. The == (equality) operator checks whether the two variables being compared are equal."
   ]
  },
  {
   "cell_type": "code",
   "execution_count": null,
   "metadata": {},
   "outputs": [],
   "source": [
    "two = 2\n",
    "three = 3\n",
    "\n",
    "is_equal = two == three\n",
    "\n",
    "print(is_equal)"
   ]
  },
  {
   "cell_type": "markdown",
   "metadata": {},
   "source": [
    "### Comparison operators\n",
    "Python has many types of comparison operators including >=, <=, >, <, etc. All comparison operations in Python have the same priority. Comparisons yield boolean values: either True or False. Comparisons can be chained arbitrarily. "
   ]
  },
  {
   "cell_type": "code",
   "execution_count": null,
   "metadata": {},
   "outputs": [],
   "source": [
    "one = 1\n",
    "two = 2\n",
    "three = 3\n",
    "\n",
    "print(one < two < three)  # This chained comparison means that the (one < two) and (two < three) comparisons are performed at the same time.\n",
    "\n",
    "is_greater = three > two\n",
    "print(is_greater)"
   ]
  },
  {
   "cell_type": "markdown",
   "metadata": {},
   "source": [
    "----\n",
    "## Strings"
   ]
  },
  {
   "cell_type": "markdown",
   "metadata": {},
   "source": [
    "### Concatenation\n",
    "Combining two strings using the + symbol is called concatenation. "
   ]
  },
  {
   "cell_type": "code",
   "execution_count": null,
   "metadata": {},
   "outputs": [],
   "source": [
    "hello = \"Hello\"\n",
    "world = 'World'\n",
    "\n",
    "hello_world = hello + \" \" + world\n",
    "print(hello_world)"
   ]
  },
  {
   "cell_type": "markdown",
   "metadata": {},
   "source": [
    "### String multiplication\n",
    "Python supports a string-by-number multiplication (but not the other way around!)."
   ]
  },
  {
   "cell_type": "code",
   "execution_count": null,
   "metadata": {},
   "outputs": [],
   "source": [
    "hello = \"hello\"\n",
    "ten_of_hellos = hello * 10\n",
    "print(ten_of_hellos)"
   ]
  },
  {
   "cell_type": "markdown",
   "metadata": {},
   "source": [
    "### String indexing\n",
    "You can access a character of a string if you know its position. For example, str[index] will yield the character at position index in the string str. \n",
    "Note that string index always starts at 0. \n",
    "Indices may also be negative numbers, to start counting from the right. Note that since -0 is the same as 0, negative indices start from -1."
   ]
  },
  {
   "cell_type": "code",
   "execution_count": null,
   "metadata": {},
   "outputs": [],
   "source": [
    "python = \"Python\"\n",
    "print(\"h \" + python[3])\n",
    "\n",
    "p_letter = python[0]\n",
    "print(p_letter)"
   ]
  },
  {
   "cell_type": "markdown",
   "metadata": {},
   "source": [
    "### String negative indexing\n",
    "You can use negative numbers in the indexing operator to count characters ‘backwards’ from the end of the string."
   ]
  },
  {
   "cell_type": "code",
   "execution_count": null,
   "metadata": {},
   "outputs": [],
   "source": [
    "long_string = \"This is a very long string!\"\n",
    "exclamation = long_string[-1]\n",
    "print(exclamation)"
   ]
  },
  {
   "cell_type": "markdown",
   "metadata": {},
   "source": [
    "### String slicing\n",
    "Slicing is used to get multiple characters (a substring) from a string. Its syntax is similar to that of indexing, but instead of just one index you use two indices (numbers) separated by a colon, e.g. str[ind1:ind2].\n",
    "<br/>\n",
    "**Example:** \n",
    "- str[start:end] \\# items start through end-1\n",
    "- str[start:]    \\# items start through the rest of the array\n",
    "- str[:end]      \\# items from the beginning through end-1\n",
    "- str[:]         \\# a copy of the whole array"
   ]
  },
  {
   "cell_type": "code",
   "execution_count": null,
   "metadata": {},
   "outputs": [],
   "source": [
    "monty_python = \"Monty Python\"\n",
    "monty = monty_python[:5]      # one or both index could be dropped. monty_python[:5] is equal to monty_python[0:5]\n",
    "print(monty)\n",
    "python = monty_python[6:]\n",
    "print(python)"
   ]
  },
  {
   "cell_type": "markdown",
   "metadata": {},
   "source": [
    "### In operator\n",
    "If you want to check whether a string contains a specific letter or a substring, you can use the in keyword. "
   ]
  },
  {
   "cell_type": "code",
   "execution_count": null,
   "metadata": {},
   "outputs": [],
   "source": [
    "ice_cream = \"ice cream\"\n",
    "print(\"cream\" in ice_cream)    # print boolean result directly\n",
    "\n",
    "contains = \"cream\" in ice_cream\n",
    "print(contains)"
   ]
  },
  {
   "cell_type": "markdown",
   "metadata": {},
   "source": [
    "### String length\n",
    "The len() function is used to count how many characters a string contains."
   ]
  },
  {
   "cell_type": "code",
   "execution_count": null,
   "metadata": {},
   "outputs": [],
   "source": [
    "phrase = \"\"\"\n",
    "It is a really long string\n",
    "triple-quoted strings are used\n",
    "to define multi-line strings\n",
    "\"\"\"\n",
    "first_half = phrase[:int(len(phrase)/2)]\n",
    "print(first_half)"
   ]
  },
  {
   "cell_type": "markdown",
   "metadata": {},
   "source": [
    "### Character escaping\n",
    "Backslash is used to escape single or double quotation marks, for example 'It\\'s me' or \"She said \\\"Hello\\\"\". The special symbol '\\n' is used to add a line break to a string. \n",
    "Single quotation mark could be used in double quoted string without escaping and vice versa. "
   ]
  },
  {
   "cell_type": "code",
   "execution_count": null,
   "metadata": {},
   "outputs": [],
   "source": [
    "dont_worry = \"Don't worry about apostrophes\"\n",
    "print(dont_worry)\n",
    "print(\"\\\"Sweet\\\" is an ice-cream\")\n",
    "print('The name of this ice-cream is \"Sweet\\'n\\'Tasty\" ')"
   ]
  },
  {
   "cell_type": "markdown",
   "metadata": {},
   "source": [
    "### Basic string methods\n",
    "There are a lot of useful string methods. You can use the lower() method to get rid of any capitalization in your strings. The upper() method is used to make a string uppercase. To call any string method, type a dot after the string (or a variable containing the string) and the method name after it, e.g. \"John\".upper()."
   ]
  },
  {
   "cell_type": "code",
   "execution_count": null,
   "metadata": {},
   "outputs": [],
   "source": [
    "monty_python = \"Monty Python\"\n",
    "print(monty_python)\n",
    "\n",
    "print(monty_python.lower())    # print lower-cased version of the string\n",
    "\n",
    "print(monty_python.upper())    # print upper-cased version of the string"
   ]
  },
  {
   "cell_type": "markdown",
   "metadata": {},
   "source": [
    "### String formatting\n",
    "The % operator after a string is used to combine a string with variables. The % operator will replace %s in a string with the string variable that comes after it. The %d special symbol is used as a placeholder for numeric or decimal values. "
   ]
  },
  {
   "cell_type": "code",
   "execution_count": null,
   "metadata": {},
   "outputs": [],
   "source": [
    "name = \"John\"\n",
    "print(\"Hello, Reader! My name is %s!\" % name)     # Note: %s is inside the string, % is after the string\n",
    "\n",
    "years = 28\n",
    "print(\"I'm %d years old\" % years)"
   ]
  },
  {
   "cell_type": "markdown",
   "metadata": {},
   "source": [
    "----\n",
    "## Datastructures\n"
   ]
  },
  {
   "cell_type": "markdown",
   "metadata": {},
   "source": [
    "### List introduction\n",
    "A list is a data structure you can use to store a collection of different pieces of information under a single variable name. A list can be written as an array of comma-separated values (items) between square brackets, e.g. lst = [item1, item2]. Lists might contain items of different types, but usually all the items in the list are of the same type. Like strings, lists can be indexed and sliced (see [String slicing](#string-slicing))."
   ]
  },
  {
   "cell_type": "code",
   "execution_count": null,
   "metadata": {},
   "outputs": [],
   "source": [
    "squares = [1, 4, 9, 16, 25]   # create new list\n",
    "print(squares)\n",
    "\n",
    "print(squares[1:4])"
   ]
  },
  {
   "cell_type": "markdown",
   "metadata": {},
   "source": [
    "### List operations\n",
    "You can add new items at the end of the list, by using the append() method and concatenation. Unlike strings, lists are a mutable type, i.e. it is possible to change their content using lst[index] = new_item "
   ]
  },
  {
   "cell_type": "code",
   "execution_count": null,
   "metadata": {},
   "outputs": [],
   "source": [
    "animals = ['elephant', 'lion', 'tiger', \"giraffe\"]  # create new list\n",
    "print(animals)\n",
    "\n",
    "animals += [\"monkey\", 'dog']    # add two items to the list\n",
    "print(animals)\n",
    "\n",
    "animals.append(\"dino\")   # add one more item to the list using append() method\n",
    "print(animals)\n",
    "\n",
    "animals[-1] = \"dinosaur\"\n",
    "print(animals)"
   ]
  },
  {
   "cell_type": "markdown",
   "metadata": {},
   "source": [
    "### List items\n",
    "Assignment to slices is also possible, and this can even change the size of a list or clear it entirely. "
   ]
  },
  {
   "cell_type": "code",
   "execution_count": null,
   "metadata": {},
   "outputs": [],
   "source": [
    "animals = ['elephant', 'lion', 'tiger', \"giraffe\", \"monkey\", 'dog']   # create new list\n",
    "print(animals)\n",
    "\n",
    "animals[1:3] = ['cat']    # replace 2 items -- 'lion' and 'tiger' with one item -- 'cat'\n",
    "print(animals)\n",
    "\n",
    "animals[1:3] = []     # remove 2 items -- 'cat' and 'giraffe' from the list\n",
    "print(animals)\n",
    "\n",
    "animals = []\n",
    "print(animals)"
   ]
  },
  {
   "cell_type": "markdown",
   "metadata": {},
   "source": [
    "### Tuples\n",
    "Tuples are almost identical to lists. The only significant difference between tuples and lists is that tuples cannot be changed: you cannot add, change, or delete elements from the tuple. Tuples are constructed by a comma operator enclosed in parentheses, for example (a, b, c). A single item tuple must have a trailing comma, such as (d,). "
   ]
  },
  {
   "cell_type": "code",
   "execution_count": null,
   "metadata": {},
   "outputs": [],
   "source": [
    "alphabet = ('a', 'b', 'c', 'd', 'e', 'f', 'g', 'h', 'i', 'j', 'k', 'l', 'm', 'n', 'o',\n",
    "            'p', 'q', 'r', 's', 't', 'u', 'v', 'w', 'x', 'y', 'z')\n",
    "\n",
    "print(len(alphabet))"
   ]
  },
  {
   "cell_type": "markdown",
   "metadata": {},
   "source": [
    "### Dictionaries\n",
    "A dictionary is similar to a list, except that you access its values by looking up a key instead of an index. A key can be any string or a number. Dictionaries are enclosed in curly braces e.g. dct = {'key1' : \"value1\", 'key2' : \"value2\"}. "
   ]
  },
  {
   "cell_type": "code",
   "execution_count": null,
   "metadata": {},
   "outputs": [],
   "source": [
    "# create new dictionary.\n",
    "phone_book = {\"John\": 123, \"Jane\": 234, \"Jerard\": 345}    # \"John\", \"Jane\" and \"Jerard\" are keys and numbers are values\n",
    "print(phone_book)\n",
    "\n",
    "# Add new item to the dictionary\n",
    "phone_book[\"Jill\"] = 345\n",
    "print(phone_book)\n",
    "\n",
    "# Remove key-value pair from phone_book\n",
    "del phone_book['John']\n",
    "\n",
    "print(phone_book[\"Jane\"])"
   ]
  },
  {
   "cell_type": "markdown",
   "metadata": {},
   "source": [
    "### Dictionaries keys() and values()\n",
    "There are a lot of useful methods in dictionaries such as keys() and values(). "
   ]
  },
  {
   "cell_type": "code",
   "execution_count": null,
   "metadata": {},
   "outputs": [],
   "source": [
    "phone_book = {\"John\": 123, \"Jane\": 234, \"Jerard\": 345}  # create new dictionary\n",
    "print(phone_book)\n",
    "\n",
    "# Add new item to the dictionary\n",
    "phone_book[\"Jill\"] = 456\n",
    "print(phone_book)\n",
    "\n",
    "print(phone_book.keys())\n",
    "\n",
    "print(phone_book.values())"
   ]
  },
  {
   "cell_type": "markdown",
   "metadata": {},
   "source": [
    "### In keyword\n",
    "The in keyword is used to check if a list or a dictionary contains a specific item. You can apply in to lists or dictionaries the same way as you did with strings. "
   ]
  },
  {
   "cell_type": "code",
   "execution_count": null,
   "metadata": {},
   "outputs": [],
   "source": [
    "grocery_list = [\"fish\", \"tomato\", 'apples']   # create new list\n",
    "\n",
    "print(\"tomato\" in grocery_list)    # check that grocery_list contains \"tomato\" item\n",
    "\n",
    "grocery_dict = {\"fish\": 1, \"tomato\": 6, 'apples': 3}   # create new dictionary\n",
    "\n",
    "print('fish' in grocery_dict.keys())"
   ]
  },
  {
   "cell_type": "markdown",
   "metadata": {},
   "source": [
    "----\n",
    "## Conditions expressions"
   ]
  },
  {
   "cell_type": "markdown",
   "metadata": {},
   "source": [
    "### Boolean operators\n",
    "Boolean operators compare statements and return results in boolean values. The boolean operator **and** returns *True* when the expressions on both sides of **and** are *True*. The boolean operator **or** returns *True* when at least one expression on either side of **or** is *True*. The boolean operator **not** inverts the boolean expression it precedes. "
   ]
  },
  {
   "cell_type": "code",
   "execution_count": null,
   "metadata": {},
   "outputs": [],
   "source": [
    "name = \"John\"\n",
    "age = 17\n",
    "\n",
    "print(name == \"John\" or age == 17)    # checks that either name equals to \"John\" OR age equals to 17\n",
    "\n",
    "print(name == \"John\" and age != 23)"
   ]
  },
  {
   "cell_type": "markdown",
   "metadata": {},
   "source": [
    "### Boolean operators order\n",
    "Boolean operators are not evaluated from left to right. There's an order of operations for boolean operators: not is evaluated first, and is evaluated next, or is evaluated last. "
   ]
  },
  {
   "cell_type": "code",
   "execution_count": null,
   "metadata": {},
   "outputs": [],
   "source": [
    "name = \"John\"\n",
    "age = 17\n",
    "\n",
    "print(name == \"John\" or not age > 17)\n",
    "\n",
    "print(name == \"John\" or not age > 17)\n",
    "\n",
    "print(name == \"Ellis\" or not name == \"John\" and age == 17 )"
   ]
  },
  {
   "cell_type": "markdown",
   "metadata": {},
   "source": [
    "### If statement\n",
    "The if keyword is used to form a conditional statement that executes some specified code after checking if its expression is True. Python uses indentation to define code blocks. "
   ]
  },
  {
   "cell_type": "code",
   "execution_count": null,
   "metadata": {},
   "outputs": [],
   "source": [
    "name = \"John\"\n",
    "age = 17\n",
    "\n",
    "if name == \"John\" or age == 17:   # check that name is \"John\" or age is 17. If so print next 2 lines.\n",
    "    print(\"name is John\")\n",
    "    print(\"John is 17 years old\")\n",
    "\n",
    "tasks = ['task1', 'task2']    # create new list\n",
    "\n",
    "if len(tasks) != 0:\n",
    "    print(\"not empty\")"
   ]
  },
  {
   "cell_type": "markdown",
   "metadata": {},
   "source": [
    "### Else, elif part in if statement\n",
    "The else statement complements the if statement. The elif keyword is short for \"else if\". "
   ]
  },
  {
   "cell_type": "code",
   "execution_count": null,
   "metadata": {},
   "outputs": [],
   "source": [
    "x = 28\n",
    "\n",
    "if x < 0:\n",
    "    print('x < 0')                      # executes only if x < 0\n",
    "elif x == 0:\n",
    "    print('x is zero')                 # if it's not true that x < 0, check if x == 0\n",
    "elif x == 1:\n",
    "    print('x == 1')                    # if it's not true that x < 0 and x != 0, check if x == 1\n",
    "else:\n",
    "    print('non of the above is true')\n",
    "\n",
    "name = \"John\"\n",
    "\n",
    "if name == \"John\":\n",
    "    print(True)\n",
    "else:\n",
    "    print(False)"
   ]
  },
  {
   "cell_type": "markdown",
   "metadata": {},
   "source": [
    "----\n",
    "## Loops"
   ]
  },
  {
   "cell_type": "markdown",
   "metadata": {},
   "source": [
    "### For loops\n",
    "for loops are used to iterate over a given sequence. On each iteration, the variable defined in the for loop will be assigned to the next value in the list. "
   ]
  },
  {
   "cell_type": "code",
   "execution_count": null,
   "metadata": {},
   "outputs": [],
   "source": [
    "for i in range(5):    # for each number i in range 0-4. range(5) function returns list [0, 1, 2, 3, 4]\n",
    "    print(i)          # this line is executed 5 times. First time i equals 0, then 1, ...\n",
    "\n",
    "\n",
    "primes = [2, 3, 5, 7]   # create new list\n",
    "\n",
    "for prime in primes:\n",
    "    print(prime)"
   ]
  },
  {
   "cell_type": "markdown",
   "metadata": {},
   "source": [
    "### For loop using string\n",
    "Strings are very similar to lists in Python. You can use string to iterate over it. "
   ]
  },
  {
   "cell_type": "code",
   "execution_count": null,
   "metadata": {},
   "outputs": [],
   "source": [
    "hello_world = \"Hello, World!\"\n",
    "\n",
    "for ch in hello_world:    # print each character from hello_world\n",
    "    print(ch)\n",
    "\n",
    "length = 0      # initialize length variable\n",
    "\n",
    "for ch in hello_world:\n",
    "    length += 1     # add 1 to the length on each iteration\n",
    "\n",
    "print(len(hello_world) == length)"
   ]
  },
  {
   "cell_type": "markdown",
   "metadata": {},
   "source": [
    "### While loop\n",
    "A while loop is similar to an if statement: it executes some code if some condition is true. The key difference is that it will continue to execute indented code for as long as the condition is True. "
   ]
  },
  {
   "cell_type": "code",
   "execution_count": null,
   "metadata": {},
   "outputs": [],
   "source": [
    "square = 1\n",
    "\n",
    "while square <= 10:\n",
    "    print(square)    # This code is executed 10 times\n",
    "    square += 1      # This code is executed 10 times\n",
    "\n",
    "print(\"Finished\")  # This code is executed once\n",
    "\n",
    "square = 0\n",
    "number = 1\n",
    "\n",
    "while number < 10:\n",
    "    square = number ** 2\n",
    "    print(square)\n",
    "    number += 1"
   ]
  },
  {
   "cell_type": "markdown",
   "metadata": {},
   "source": [
    "### Break keyword\n",
    "An infinite loop is a loop that never exits. If the loop condition happens to always be True, such a loop becomes infinite. The break keyword is used to exit the current loop. "
   ]
  },
  {
   "cell_type": "code",
   "execution_count": null,
   "metadata": {},
   "outputs": [],
   "source": [
    "count = 0\n",
    "\n",
    "while True:  # this condition cannot possibly be false\n",
    "    print(count)\n",
    "    count += 1\n",
    "    if count >= 5:\n",
    "        break           # exit loop if count >= 5\n",
    "\n",
    "\n",
    "zoo = [\"lion\", 'tiger', 'elephant']\n",
    "while True:                         # this condition cannot possibly be false\n",
    "    animal = zoo.pop()       # extract one element from the list end\n",
    "    print(animal)\n",
    "    if animal == \"elephant\":\n",
    "        break           # exit loop"
   ]
  },
  {
   "cell_type": "markdown",
   "metadata": {},
   "source": [
    "### Continue keyword\n",
    "The continue keyword is used to skip the rest of the code inside the loop for the currently executed loop and return to the for or while statement. "
   ]
  },
  {
   "cell_type": "code",
   "execution_count": null,
   "metadata": {},
   "outputs": [],
   "source": [
    "for i in range(5):\n",
    "    if i == 3:\n",
    "        continue   # skip the rest of the code inside loop for current i value\n",
    "    print(i)\n",
    "\n",
    "for x in range(10):\n",
    "    if x % 2 == 0:\n",
    "        continue   # skip print(x) for this loop\n",
    "    print(x)"
   ]
  },
  {
   "cell_type": "markdown",
   "metadata": {},
   "source": [
    "----\n",
    "## Functions"
   ]
  },
  {
   "cell_type": "markdown",
   "metadata": {},
   "source": [
    "### Definition\n",
    "Functions are a convenient way to divide your code into useful blocks, make it more readable and help reuse it. Functions are defined using the keyword def, followed by the function's name. "
   ]
  },
  {
   "cell_type": "code",
   "execution_count": null,
   "metadata": {},
   "outputs": [],
   "source": [
    "def hello_world():  # function named my_function\n",
    "    \"\"\"This is documentation string for function. It'll be available by hello_world.__doc__()\"\"\"\n",
    "    print(\"Hello, World!\")\n",
    "\n",
    "for i in range(5):\n",
    "    hello_world()   # call function defined above 5 times"
   ]
  },
  {
   "cell_type": "markdown",
   "metadata": {},
   "source": [
    "### Parameters and call arguments\n",
    "Function parameters are defined inside the parentheses (), following the function name. A parameter acts as a variable name for the passed argument."
   ]
  },
  {
   "cell_type": "code",
   "execution_count": null,
   "metadata": {},
   "outputs": [],
   "source": [
    "def foo(x):                 # x is a function parameter\n",
    "    print(\"x = \" + str(x))\n",
    "\n",
    "foo(5)   # pass 5 to foo(). Here 5 is an argument passed to function foo.\n",
    "\n",
    "def square(x):\n",
    "    print(x ** 2)\n",
    "\n",
    "square(4)\n",
    "square(8)"
   ]
  },
  {
   "cell_type": "markdown",
   "metadata": {},
   "source": [
    "### Return value\n",
    "Functions may return a value to the caller, using the keyword return. You can use the returned value to assign it to a variable or just print it out."
   ]
  },
  {
   "cell_type": "code",
   "execution_count": null,
   "metadata": {},
   "outputs": [],
   "source": [
    "def sum_two_numbers(a, b):\n",
    "    return a + b            # return result to the function caller\n",
    "\n",
    "c = sum_two_numbers(3, 12)  # assign result of function execution to variable 'c'\n",
    "\n",
    "\n",
    "def fib(n):\n",
    "    result = []\n",
    "    a = 1\n",
    "    b = 1\n",
    "    while a < n:\n",
    "        result.append(a)\n",
    "        tmp_var = b\n",
    "        b += a\n",
    "        a = tmp_var\n",
    "    return result\n",
    "\n",
    "print(fib(10))"
   ]
  },
  {
   "cell_type": "markdown",
   "metadata": {},
   "source": [
    "### Default parameters\n",
    "Sometimes it's useful to specify a default value for one or more function parameters. This creates a function that can be called with fewer arguments than it is defined to allow."
   ]
  },
  {
   "cell_type": "code",
   "execution_count": null,
   "metadata": {},
   "outputs": [],
   "source": [
    "def multiply_by(a, b=2):\n",
    "    return a * b\n",
    "\n",
    "print(multiply_by(3, 47))\n",
    "print(multiply_by(3))    # call function using default value for b parameter\n",
    "\n",
    "\n",
    "def hello(subject, name=\"Hans\"):\n",
    "    print(\"Hello %s! My name is %s\" % (subject, name))\n",
    "\n",
    "hello(\"Programmer\", \"Jane\")    # call 'hello' function with \"PyCharm as a subject parameter and \"Jane\" as a name\n",
    "hello(\"Programmer\")            # call 'hello' function with \"PyCharm as a subject parameter and default value for the name"
   ]
  },
  {
   "cell_type": "markdown",
   "metadata": {},
   "source": [
    "### Lambdas\n",
    "A lambda function is a small anonymous function which can take any number of arguments, but can only have one expression.\n",
    "Lambda functions are used when an anonymous function is required for a short period of time."
   ]
  },
  {
   "cell_type": "code",
   "execution_count": null,
   "metadata": {},
   "outputs": [],
   "source": [
    "x = lambda a : a + 10\n",
    "print(x(5))\n",
    "\n",
    "x = lambda a, b : a * b\n",
    "print(x(5, 6))\n",
    "\n",
    "\n",
    "def myfunc(n):\n",
    "  return lambda a : a * n\n",
    "\n",
    "mydoubler = myfunc(2)\n",
    "mytripler = myfunc(3)\n",
    "\n",
    "print(mydoubler(11)) \n",
    "print(mytripler(11))"
   ]
  },
  {
   "cell_type": "markdown",
   "metadata": {},
   "source": [
    "----\n",
    "## Classes and objects\n",
    "[Python Documentation](https://docs.python.org/3/tutorial/classes.html)"
   ]
  },
  {
   "cell_type": "markdown",
   "metadata": {},
   "source": [
    "### Definition\n",
    "An object combines variables and functions into a single entity. Objects get their variables and functions from classes. Classes are essentially templates for creating your objects. You can think of an object as a single data structure that contains data as well as functions. Functions of objects are called methods. "
   ]
  },
  {
   "cell_type": "code",
   "execution_count": null,
   "metadata": {},
   "outputs": [],
   "source": [
    "class MyClass:\n",
    "    variable = \"object variable\"\n",
    "\n",
    "    def foo(self):   # we'll explain self parameter later in task 4\n",
    "        print(\"Hello from function foo\")\n",
    "\n",
    "my_object = MyClass()  # variable \"my_object\" holds an object of the class \"MyClass\" that contains the variable and the \"foo\" function"
   ]
  },
  {
   "cell_type": "markdown",
   "metadata": {},
   "source": [
    "### Variable access\n",
    "To access a variable inside an object, see example below. You can change the values of variables defined in a class for different instances (objects) of this class."
   ]
  },
  {
   "cell_type": "code",
   "execution_count": null,
   "metadata": {},
   "outputs": [],
   "source": [
    "class Car:\n",
    "    color = \"\"\n",
    "    def description(self):\n",
    "        description_string = \"This is a %s car.\" % self.color    # we'll explain self parameter later in task 4\n",
    "        return description_string\n",
    "\n",
    "car1 = Car()\n",
    "car2 = Car()\n",
    "\n",
    "car1.color = \"blue\"\n",
    "car2.color = \"red\"\n",
    "print(car1.color)\n",
    "print(car2.color)\n",
    "print(car1.description())\n",
    "print(car2.description())"
   ]
  },
  {
   "cell_type": "markdown",
   "metadata": {},
   "source": [
    "### Self explanation\n",
    "It's time to explain the self parameter used in previous tasks. The self parameter is a Python convention. self is the first parameter passed to any class method. Python will use the self parameter to refer to the object being created."
   ]
  },
  {
   "cell_type": "code",
   "execution_count": null,
   "metadata": {},
   "outputs": [],
   "source": [
    "class Complex:\n",
    "    def create(self, real_part, imag_part):\n",
    "        self.r = real_part\n",
    "        self.i = imag_part\n",
    "\n",
    "class Calculator:\n",
    "    current = 0\n",
    "\n",
    "    def add(self, amount):\n",
    "        self += amount\n",
    "    def get_current(self):\n",
    "        return self.current"
   ]
  },
  {
   "cell_type": "markdown",
   "metadata": {},
   "source": [
    "### Special \\_\\_init\\_\\_ method\n",
    "*\\_\\_init\\_\\_* function is used to initialize the objects it creates. *\\_\\_init\\_\\_* is short for \"initialize\". *\\_\\_init\\_\\_*() always takes at least one argument, self, which refers to the object being created. *\\_\\_init\\_\\_*() function sets up each object the class creates. "
   ]
  },
  {
   "cell_type": "code",
   "execution_count": null,
   "metadata": {},
   "outputs": [],
   "source": [
    "class Square:\n",
    "\n",
    "    def __init__(self):    # special method __init__\n",
    "        self.sides = 4\n",
    "\n",
    "square = Square()\n",
    "print(square.sides)\n",
    "\n",
    "class Car:\n",
    "    def __init__(self, color):\n",
    "        self.color = color\n",
    "\n",
    "car = Car(\"blue\")    # Note: you should not pass self parameter explicitly, only color parameter\n",
    "\n",
    "print(car.color)"
   ]
  },
  {
   "cell_type": "markdown",
   "metadata": {},
   "source": [
    "----\n",
    "## Modules and packages\n",
    "[Python Documentation](https://docs.python.org/3/tutorial/modules.html)"
   ]
  },
  {
   "cell_type": "markdown",
   "metadata": {},
   "source": [
    "### Import module\n",
    "Modules in Python are simply Python files with the .py extension containing Python definitions and statements. Modules can be handy when you want to use your function in a number of programs without copying its definition into each program. Modules are imported from other modules using the import keyword and the file name without an extension. The first time a module is loaded into a running Python script, it is initialized by executing the code in the module once.\n",
    "</br>\n",
    "If the Modules aren't located in the root directory or are defined in the PythonPath we have tell Python were to find it. The variable sys.path is a list of strings that determines the interpreter’s search path for modules. It is initialized to a default path taken from the environment variable PYTHONPATH, or from a built-in default if PYTHONPATH is not set. "
   ]
  },
  {
   "cell_type": "code",
   "execution_count": 36,
   "metadata": {},
   "outputs": [
    {
     "name": "stdout",
     "output_type": "stream",
     "text": [
      "2\n"
     ]
    },
    {
     "data": {
      "text/plain": [
       "'Hello, World!'"
      ]
     },
     "execution_count": 36,
     "metadata": {},
     "output_type": "execute_result"
    }
   ],
   "source": [
    "#res/Introduction_to_Python/calculator.py \n",
    "#res/Introduction_to_Python/my_module.py\n",
    "\n",
    "#imports.py\n",
    "import sys\n",
    "sys.path.append('res/Introduction_to_Python') # here we add the folder with modules to the PYTHONPATH variable\n",
    "                  \n",
    "import calculator\n",
    "\n",
    "calc = calculator.Calculator()    # create new instance of Calculator class defined in calculator module\n",
    "calc.add(2)\n",
    "print(calc.get_current())\n",
    "\n",
    "import my_module\n",
    "\n",
    "my_module.hello_world()"
   ]
  },
  {
   "cell_type": "markdown",
   "metadata": {},
   "source": [
    "### From import\n",
    "One form of the import statement imports names from a module directly into the importing module's symbol table. This way you can use the imported name directly without the module_name prefix."
   ]
  },
  {
   "cell_type": "code",
   "execution_count": 33,
   "metadata": {},
   "outputs": [
    {
     "name": "stdout",
     "output_type": "stream",
     "text": [
      "2\n",
      "Hello, World!\n"
     ]
    }
   ],
   "source": [
    "#res/Introduction_to_Python/calculator.py \n",
    "#res/Introduction_to_Python/my_module.py\n",
    "\n",
    "#imports.py\n",
    "import sys\n",
    "sys.path.append('res/Introduction_to_Python') # here we add the folder with modules to the PYTHONPATH variable\n",
    "\n",
    "from calculator import Calculator\n",
    "\n",
    "calc = Calculator()    # here we can use Calculator class directly without prefix calculator.\n",
    "calc.add(2)\n",
    "print(calc.get_current())\n",
    "\n",
    "from my_module import hello_world\n",
    "\n",
    "print(hello_world())    # Note: hello_world function used without prefix\n"
   ]
  },
  {
   "cell_type": "markdown",
   "metadata": {},
   "source": [
    "### Builtin modules\n",
    "Python comes with a library of standard modules."
   ]
  },
  {
   "cell_type": "code",
   "execution_count": 28,
   "metadata": {},
   "outputs": [
    {
     "name": "stdout",
     "output_type": "stream",
     "text": [
      "2019-02-07 19:25:01.827002\n"
     ]
    }
   ],
   "source": [
    "import datetime\n",
    "\n",
    "print(datetime.datetime.today())"
   ]
  },
  {
   "cell_type": "markdown",
   "metadata": {},
   "source": [
    "----\n",
    "## File input/output\n",
    "[Python Documentation](https://docs.python.org/3/tutorial/inputoutput.html)"
   ]
  },
  {
   "cell_type": "markdown",
   "metadata": {},
   "source": [
    "### Read file\n",
    "Python has a number of built-in functions to read and write information from a file on your computer. The open function is used to open a file. The file can be opened in read mode (using \"r\" as the second argument) or in write mode (using \"w\" as the second argument). The open function returns the file object. You need to store it to close the file later. "
   ]
  },
  {
   "cell_type": "code",
   "execution_count": 32,
   "metadata": {},
   "outputs": [
    {
     "name": "stdout",
     "output_type": "stream",
     "text": [
      "I am a temporary file. Maybe someday, I'll become a real file.\n",
      "My first line\n",
      "\n"
     ]
    }
   ],
   "source": [
    "f = open(\"res/Introduction_to_Python/input.txt\", \"r\")   # here we open file \"input.txt\". Second argument used to identify that we want to read file\n",
    "                             # Note: if you want to write to the file use \"w\" as second argument\n",
    "for line in f.readlines():   # read lines\n",
    "    print(line)\n",
    "f.close()                   # It's important to close the file to free up any system resources.\n",
    "\n",
    "f1 = open(\"res/Introduction_to_Python/input1.txt\", \"r\")\n",
    "print(f1.readline())\n",
    "f1.close()"
   ]
  },
  {
   "cell_type": "markdown",
   "metadata": {},
   "source": [
    "### Write to file\n",
    "If you open a file using \"w\" (write) as the second argument, a new empty file will be created. Note that if another file with the same name exists, it will be deleted. If you want to add some content to an existing file, you should use the \"a\" (append) modifier."
   ]
  },
  {
   "cell_type": "code",
   "execution_count": 39,
   "metadata": {},
   "outputs": [],
   "source": [
    "zoo = ['lion', \"elephant\", 'monkey']\n",
    "\n",
    "if __name__ == \"__main__\":\n",
    "    f = open(\"res/Introduction_to_Python/output.txt\", \"a\")\n",
    "\n",
    "    for i in zoo:\n",
    "        f.write(i + \",\")\n",
    "\n",
    "    f.close()"
   ]
  }
 ],
 "metadata": {
  "kernelspec": {
   "display_name": "Python 3",
   "language": "python",
   "name": "python3"
  },
  "language_info": {
   "codemirror_mode": {
    "name": "ipython",
    "version": 3
   },
   "file_extension": ".py",
   "mimetype": "text/x-python",
   "name": "python",
   "nbconvert_exporter": "python",
   "pygments_lexer": "ipython3",
   "version": "3.7.2"
  }
 },
 "nbformat": 4,
 "nbformat_minor": 2
}
